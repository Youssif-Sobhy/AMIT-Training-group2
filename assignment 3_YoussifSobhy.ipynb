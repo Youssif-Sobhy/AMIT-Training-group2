{
 "cells": [
  {
   "cell_type": "markdown",
   "metadata": {},
   "source": [
    "# Assignment 3"
   ]
  },
  {
   "cell_type": "markdown",
   "metadata": {},
   "source": [
    "### Write a function to count the number 4 in a given list."
   ]
  },
  {
   "cell_type": "code",
   "execution_count": 2,
   "metadata": {},
   "outputs": [
    {
     "name": "stdout",
     "output_type": "stream",
     "text": [
      "numbers of 4 in your list is =   2\n"
     ]
    }
   ],
   "source": [
    "def counternumber4(list):   #function that takes a list from user\n",
    "    \n",
    "    counter=0           #declare a counter and put a zero in it \n",
    "    \n",
    "    for i in list:       \n",
    "        if i==4:          #loop over the given list if it find number 4 in it \n",
    "            counter+=1    #counter will be plused by one\n",
    "    return print('numbers of 4 in your list is =  ',counter)     #return how many four in list given\n",
    "\n",
    "counternumber4([2,3,4,7,8,9,4])\n",
    "            \n",
    "    "
   ]
  },
  {
   "cell_type": "markdown",
   "metadata": {},
   "source": [
    "### write a  function to check whether a number is divisible by another number."
   ]
  },
  {
   "cell_type": "code",
   "execution_count": 8,
   "metadata": {},
   "outputs": [
    {
     "name": "stdout",
     "output_type": "stream",
     "text": [
      "number 8 can be divided by 2\n",
      "number 8 can not be divided by 3\n"
     ]
    }
   ],
   "source": [
    "def division(x,y):          #declare a function that take a x number any y number and see if (x) can be divided by (y)\n",
    "    if x % y == 0 :      \n",
    "        print('number {} can be divided by {}'.format(x,y))       #if it can be divided print that it can\n",
    "    else:\n",
    "        print('number {} can not be divided by {}'.format(x,y))  #else it can not then print that it can not\n",
    "\n",
    "division(8,2)\n",
    "division(8,3)"
   ]
  },
  {
   "cell_type": "markdown",
   "metadata": {},
   "source": [
    "### write a function to find the maximum and minimum numbers from a sequence of numbers."
   ]
  },
  {
   "cell_type": "code",
   "execution_count": 13,
   "metadata": {},
   "outputs": [
    {
     "name": "stdout",
     "output_type": "stream",
     "text": [
      "please enter length of list you will enter4\n",
      "please enter a number2\n",
      "please enter a number7\n",
      "please enter a number4\n",
      "please enter a number8\n",
      "maximum number of sequence of numbers you entered is =  8\n",
      "minimum number of sequence of numbers you entered is =  2\n"
     ]
    }
   ],
   "source": [
    "def max_and_min():       #function to get an length of list (seqeuence of numbers) that will be given by user then the user can add\n",
    "                         #any numbers he want then it will return maximum and minimum of these numbers \n",
    "    \n",
    "    lengthoflist=int(input('please enter length of list you will enter'))   #take length of this sequcence of number from user\n",
    "    \n",
    "    list1=[]              #declare an empty list \n",
    "    for i in range(lengthoflist):   #for loop to add any number user will put in this empty list\n",
    "        \n",
    "        take_a_number=int(input('please enter a number'))\n",
    "        \n",
    "        list1.append( take_a_number)\n",
    "    \n",
    "    print(\"maximum number of sequence of numbers you entered is = \",max(list1))  #to print maximum number\n",
    "    print(\"minimum number of sequence of numbers you entered is = \",min(list1))  #to print minimum number\n",
    "\n",
    "max_and_min()\n",
    "        \n",
    "        "
   ]
  },
  {
   "cell_type": "markdown",
   "metadata": {},
   "source": [
    "### Write a Python function that takes two lists and returns True if they have at least one common member."
   ]
  },
  {
   "cell_type": "code",
   "execution_count": 27,
   "metadata": {},
   "outputs": [
    {
     "name": "stdout",
     "output_type": "stream",
     "text": [
      "please enter length of list you will enter3\n",
      "please enter a number to put in first list1\n",
      "please enter a number to put in first list2\n",
      "please enter a number to put in first list3\n",
      "please enter a number to put in the second list4\n",
      "please enter a number to put in the second list2\n",
      "please enter a number to put in the second list5\n"
     ]
    },
    {
     "data": {
      "text/plain": [
       "True"
      ]
     },
     "execution_count": 27,
     "metadata": {},
     "output_type": "execute_result"
    }
   ],
   "source": [
    "def twolists():\n",
    "\n",
    "    lengthoflist=int(input('please enter length of list you will enter'))  #take length of lists \n",
    "\n",
    "    list1=[]                      #declare two empty lists\n",
    "    list2=[]\n",
    "    \n",
    "    for i in range(lengthoflist):            # for loop to fill first list by numbers\n",
    "        take_a_number=int(input('please enter a number to put in first list'))\n",
    "        list1.append(take_a_number)\n",
    "        \n",
    "    for i in range(lengthoflist):            # for loop to fill second list by numbers\n",
    "        take_a_number2=int(input('please enter a number to put in the second list'))\n",
    "        list2.append(take_a_number2)   \n",
    "    \n",
    "    for i in range(0,lengthoflist):         #for loop to check if any number in first list = to the number in second list \n",
    "        if list1[i]==list2[i]:           \n",
    "            return True          #return true if found\n",
    "            break\n",
    "    \n",
    "    return False                    #return false if not found\n",
    "\n",
    "twolists()\n"
   ]
  },
  {
   "cell_type": "markdown",
   "metadata": {},
   "source": [
    "#### Write a Python function to calculate the factorial of a number (a non-negative integer). The function accepts the number from the user"
   ]
  },
  {
   "cell_type": "code",
   "execution_count": 36,
   "metadata": {},
   "outputs": [
    {
     "data": {
      "text/plain": [
       "6"
      ]
     },
     "execution_count": 36,
     "metadata": {},
     "output_type": "execute_result"
    }
   ],
   "source": [
    "def factorial(number):\n",
    "    \n",
    "    if number<0:          #first to check if number is integer positive or is it negative\n",
    "        \n",
    "        print('number is negative integer')        #print negative if user's input was negative number\n",
    "        \n",
    "        return \n",
    "    \n",
    "    fact=1\n",
    "    \n",
    "    for i in range(1,number+1):        #for loop to calculate factorial of number\n",
    "        \n",
    "        fact=fact*i                        \n",
    "        \n",
    "    return fact                        #return factorial \n",
    "\n",
    "\n",
    "result=factorial(3)\n",
    "\n",
    "result"
   ]
  },
  {
   "cell_type": "markdown",
   "metadata": {},
   "source": [
    "### Write a Python function to check whether a number is in a given range.\n",
    "\n",
    "### The range is from 3 to 11\n"
   ]
  },
  {
   "cell_type": "code",
   "execution_count": 62,
   "metadata": {},
   "outputs": [
    {
     "name": "stdout",
     "output_type": "stream",
     "text": [
      "number 4 is in a given range\n",
      "number 17 is not in a given range\n"
     ]
    }
   ],
   "source": [
    "def checknumber(number):      #function take number and return if this number in give range(3,11) or not \n",
    "    \n",
    "    for i in range(3,11):      #for loop to loop over the numbers from given range 3 to 11\n",
    "         \n",
    "        isfound=False          #declare of bolean value (flag) and put a false in it\n",
    "        \n",
    "        if number==i:         # if number was found in range\n",
    "            \n",
    "            #print('number {} is in a given range'.format(number))\n",
    "            \n",
    "            isfound=True     # make the flag true\n",
    "            \n",
    "            break            # then out of the loop\n",
    "            \n",
    "            \n",
    "    if isfound==True:      #check whether number is found by checking isfound is true or not so if it is ...print number is in \n",
    "                           #given range\n",
    "                           # if not found then print not in given range\n",
    "    \n",
    "        print('number {} is in a given range'.format(number))\n",
    "    \n",
    "    else:\n",
    "    \n",
    "        print('number {} is not in a given range'.format(number))\n",
    "\n",
    "            \n",
    "            \n",
    "            \n",
    "            \n",
    "checknumber(4)\n",
    "checknumber(17)"
   ]
  },
  {
   "cell_type": "markdown",
   "metadata": {},
   "source": [
    "### Write a  program to create the multiplication table (from 1 to 10) of a number."
   ]
  },
  {
   "cell_type": "code",
   "execution_count": 77,
   "metadata": {},
   "outputs": [
    {
     "name": "stdout",
     "output_type": "stream",
     "text": [
      " 5 x  1  =  5 \n",
      " 5 x  2  =  10 \n",
      " 5 x  3  =  15 \n",
      " 5 x  4  =  20 \n",
      " 5 x  5  =  25 \n",
      " 5 x  6  =  30 \n",
      " 5 x  7  =  35 \n",
      " 5 x  8  =  40 \n",
      " 5 x  9  =  45 \n",
      " 5 x  10  =  50 \n"
     ]
    }
   ],
   "source": [
    "def multiply(number):   #function to take number from user and create the multiplication table from(1 to 10)\n",
    "    \n",
    "    for i in range (1,11):    #for loop to loop over range from 1 to 10   \n",
    "        \n",
    "        multiplying=number*i     #every time multiply number given by user and i that is increment every time\n",
    "        \n",
    "        print(' {} x  {}  =  {} '.format(number,i,multiplying))  #print it in format like multiplication table\n",
    "\n",
    "multiply(5)"
   ]
  },
  {
   "cell_type": "markdown",
   "metadata": {},
   "source": [
    "#### LESSER OF TWO EVENS: Write a function that returns the lesser of two given numbers *if* both numbers are even, but returns the greater if one or both numbers are odd\n",
    "    lesser_of_two_evens(2,4) --> 2\n",
    "    lesser_of_two_evens(2,5) --> 5"
   ]
  },
  {
   "cell_type": "code",
   "execution_count": 6,
   "metadata": {},
   "outputs": [
    {
     "name": "stdout",
     "output_type": "stream",
     "text": [
      "2\n"
     ]
    }
   ],
   "source": [
    "def twonumbers(firstno,secondno):          #function take two numbers\n",
    "    if firstno % 2 ==0 and secondno % 2 ==0 :    #check if they are even both\n",
    "        \n",
    "        minimum=min(firstno,secondno)        #get the minimum and print it \n",
    "        return print(minimum)\n",
    "    else:\n",
    "         maximum=max(firstno,secondno)    #else they are not even one of them is odd or both of them print maximum of them\n",
    "         return print(maximum)\n",
    "\n",
    "twonumbers(2,4)\n"
   ]
  },
  {
   "cell_type": "code",
   "execution_count": null,
   "metadata": {},
   "outputs": [],
   "source": []
  }
 ],
 "metadata": {
  "kernelspec": {
   "display_name": "Python 3 (ipykernel)",
   "language": "python",
   "name": "python3"
  },
  "language_info": {
   "codemirror_mode": {
    "name": "ipython",
    "version": 3
   },
   "file_extension": ".py",
   "mimetype": "text/x-python",
   "name": "python",
   "nbconvert_exporter": "python",
   "pygments_lexer": "ipython3",
   "version": "3.9.12"
  }
 },
 "nbformat": 4,
 "nbformat_minor": 2
}
